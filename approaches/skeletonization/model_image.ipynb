{
 "cells": [
  {
   "cell_type": "code",
   "execution_count": 1,
   "metadata": {
    "collapsed": true,
    "ExecuteTime": {
     "start_time": "2024-04-23T18:40:12.233038Z",
     "end_time": "2024-04-23T18:40:15.276153Z"
    }
   },
   "outputs": [
    {
     "name": "stderr",
     "output_type": "stream",
     "text": [
      "2024-04-23 18:40:12.428517: I tensorflow/core/platform/cpu_feature_guard.cc:182] This TensorFlow binary is optimized to use available CPU instructions in performance-critical operations.\n",
      "To enable the following instructions: SSE4.1 SSE4.2, in other operations, rebuild TensorFlow with the appropriate compiler flags.\n"
     ]
    },
    {
     "name": "stdout",
     "output_type": "stream",
     "text": [
      "/Users/artur/Documents/Studia/Magisterka_init/approaches/skeletonization\n"
     ]
    }
   ],
   "source": [
    "import pandas as pd\n",
    "import numpy as np\n",
    "from sklearn.model_selection import train_test_split\n",
    "from sklearn.preprocessing import LabelEncoder\n",
    "from tensorflow.keras.utils import to_categorical\n",
    "from tensorflow.keras.preprocessing.sequence import pad_sequences\n",
    "from tensorflow.keras.models import Sequential\n",
    "from tensorflow.keras.layers import LSTM, Dense, Dropout, MaxPooling1D, Flatten, Conv1D\n",
    "from  tensorflow.keras import optimizers\n",
    "from tensorflow.keras.callbacks import EarlyStopping\n",
    "import tensorflow as tf\n",
    "import random as python_random\n",
    "\n",
    "np.random.seed(42)\n",
    "python_random.seed(42)\n",
    "tf.random.set_seed(42)\n",
    "\n",
    "import os\n",
    "print(os.getcwd())\n",
    "os.environ['TF_DETERMINISTIC_OPS'] = '1'"
   ]
  },
  {
   "cell_type": "code",
   "execution_count": 19,
   "outputs": [
    {
     "name": "stdout",
     "output_type": "stream",
     "text": [
      "(57937, 4)\n"
     ]
    }
   ],
   "source": [
    "import cv2\n",
    "\n",
    "const = 80\n",
    "\n",
    "data_folder_path = f'data_{const}'  # You will need to set this to your data folder path\n",
    "\n",
    "# Initialize an empty list to store data\n",
    "data_list = []\n",
    "\n",
    "# Walk through the directory\n",
    "for label in os.listdir(data_folder_path):\n",
    "    label_path = os.path.join(data_folder_path, label)\n",
    "    if os.path.isdir(label_path):\n",
    "        labels_path = os.listdir(label_path)\n",
    "        if \".DS_Store\" in labels_path:\n",
    "            labels_path.remove(\".DS_Store\")\n",
    "        sorted_list_0 = sorted(labels_path, key=lambda x: int(x))\n",
    "        for video_id in sorted_list_0:\n",
    "            video_id_path = os.path.join(label_path, video_id)\n",
    "            if os.path.isdir(video_id_path):\n",
    "                sorted_list = sorted(os.listdir(video_id_path), key=lambda x: int(x.split('.')[0]))\n",
    "                for frame_id_file in sorted_list:\n",
    "                    frame_id, ext = os.path.splitext(frame_id_file)\n",
    "                    if ext.lower() == '.jpg':\n",
    "                        file_path = os.path.join(video_id_path, frame_id_file)\n",
    "                        # Read the image\n",
    "                        img = cv2.imread(file_path, cv2.IMREAD_GRAYSCALE)\n",
    "                        if img is not None:\n",
    "                            # Flatten the image data and convert to a list\n",
    "                            img_data = img.flatten().tolist()\n",
    "                            if len(img_data) != const * const:\n",
    "                                continue\n",
    "                            # Append the data to the list\n",
    "                            data_list.append({'label': label, 'video_id': video_id, 'frame_id': int(frame_id), 'data': img_data})\n",
    "\n",
    "# Create the DataFrame\n",
    "df = pd.DataFrame(data_list)\n",
    "print(df.shape)"
   ],
   "metadata": {
    "collapsed": false,
    "ExecuteTime": {
     "start_time": "2024-04-22T00:14:37.672892Z",
     "end_time": "2024-04-22T00:14:53.318907Z"
    }
   }
  },
  {
   "cell_type": "code",
   "execution_count": 19,
   "outputs": [],
   "source": [],
   "metadata": {
    "collapsed": false,
    "ExecuteTime": {
     "start_time": "2024-04-22T00:14:53.319638Z",
     "end_time": "2024-04-22T00:14:53.321389Z"
    }
   }
  },
  {
   "cell_type": "code",
   "execution_count": 20,
   "outputs": [
    {
     "name": "stderr",
     "output_type": "stream",
     "text": [
      "/opt/anaconda3/envs/tf/lib/python3.11/site-packages/sklearn/utils/validation.py:605: FutureWarning: is_sparse is deprecated and will be removed in a future version. Check `isinstance(dtype, pd.SparseDtype)` instead.\n",
      "  if is_sparse(pd_dtype):\n",
      "/opt/anaconda3/envs/tf/lib/python3.11/site-packages/sklearn/utils/validation.py:614: FutureWarning: is_sparse is deprecated and will be removed in a future version. Check `isinstance(dtype, pd.SparseDtype)` instead.\n",
      "  if is_sparse(pd_dtype) or not is_extension_array_dtype(pd_dtype):\n"
     ]
    }
   ],
   "source": [
    "label_encoder = LabelEncoder()\n",
    "encoded_labels = label_encoder.fit_transform(df['label'])\n",
    "categorical_labels = to_categorical(encoded_labels)"
   ],
   "metadata": {
    "collapsed": false,
    "ExecuteTime": {
     "start_time": "2024-04-22T00:14:53.338098Z",
     "end_time": "2024-04-22T00:14:53.364189Z"
    }
   }
  },
  {
   "cell_type": "code",
   "execution_count": 20,
   "outputs": [],
   "source": [],
   "metadata": {
    "collapsed": false,
    "ExecuteTime": {
     "start_time": "2024-04-22T00:14:53.345978Z",
     "end_time": "2024-04-22T00:14:53.364630Z"
    }
   }
  },
  {
   "cell_type": "code",
   "execution_count": 21,
   "outputs": [],
   "source": [
    "# df['data'] = df['data'].apply(eval)"
   ],
   "metadata": {
    "collapsed": false,
    "ExecuteTime": {
     "start_time": "2024-04-22T00:14:53.354632Z",
     "end_time": "2024-04-22T00:14:53.364738Z"
    }
   }
  },
  {
   "cell_type": "code",
   "execution_count": 21,
   "outputs": [],
   "source": [],
   "metadata": {
    "collapsed": false,
    "ExecuteTime": {
     "start_time": "2024-04-22T00:14:53.360237Z",
     "end_time": "2024-04-22T00:14:53.364778Z"
    }
   }
  },
  {
   "cell_type": "code",
   "execution_count": 22,
   "outputs": [],
   "source": [
    "df_copy = df.copy()"
   ],
   "metadata": {
    "collapsed": false,
    "ExecuteTime": {
     "start_time": "2024-04-22T00:14:53.367892Z",
     "end_time": "2024-04-22T00:14:53.375122Z"
    }
   }
  },
  {
   "cell_type": "code",
   "execution_count": 3,
   "outputs": [
    {
     "name": "stderr",
     "output_type": "stream",
     "text": [
      "/opt/anaconda3/envs/tf/lib/python3.11/site-packages/sklearn/utils/validation.py:605: FutureWarning: is_sparse is deprecated and will be removed in a future version. Check `isinstance(dtype, pd.SparseDtype)` instead.\n",
      "  if is_sparse(pd_dtype):\n",
      "/opt/anaconda3/envs/tf/lib/python3.11/site-packages/sklearn/utils/validation.py:614: FutureWarning: is_sparse is deprecated and will be removed in a future version. Check `isinstance(dtype, pd.SparseDtype)` instead.\n",
      "  if is_sparse(pd_dtype) or not is_extension_array_dtype(pd_dtype):\n"
     ]
    }
   ],
   "source": [
    "# # TMP TEST\n",
    "df = pd.read_csv('csvki/32_skel_bez_tla.csv')\n",
    "\n",
    "label_encoder = LabelEncoder()\n",
    "encoded_labels = label_encoder.fit_transform(df['label'])\n",
    "categorical_labels = to_categorical(encoded_labels)\n",
    "\n",
    "df['data'] = df['data'].apply(eval)\n",
    "features = np.array(df['data'].tolist())\n",
    "\n",
    "# features = df.drop(['label', 'video_id', 'frame_id'], axis=1).values\n",
    "\n",
    "grouped = df.groupby('video_id').apply(lambda x: x.sort_values('frame_id')).reset_index(drop=True)\n",
    "\n",
    "max_sequence_length_per_video = grouped.groupby('video_id')['frame_id'].count().max()\n",
    "\n",
    "X = np.zeros((len(grouped['video_id'].unique()), max_sequence_length_per_video, features.shape[1]))\n",
    "y = np.zeros((len(grouped['video_id'].unique()), categorical_labels.shape[1]))\n",
    "\n",
    "for i, (video_id, group) in enumerate(grouped.groupby('video_id')):\n",
    "    X[i, :len(group)] = np.array(group['data'].tolist())\n",
    "    y[i] = categorical_labels[group.index[0]]\n",
    "\n",
    "X_train, X_test, y_train, y_test = train_test_split(X, y, test_size=0.2, random_state=42)"
   ],
   "metadata": {
    "collapsed": false,
    "ExecuteTime": {
     "start_time": "2024-04-23T18:40:51.025062Z",
     "end_time": "2024-04-23T18:41:51.410712Z"
    }
   }
  },
  {
   "cell_type": "code",
   "execution_count": null,
   "outputs": [],
   "source": [],
   "metadata": {
    "collapsed": false
   }
  },
  {
   "cell_type": "code",
   "execution_count": 24,
   "outputs": [
    {
     "name": "stdout",
     "output_type": "stream",
     "text": [
      "(1028, 33)\n",
      "(257, 33)\n"
     ]
    }
   ],
   "source": [
    "print(y_train.shape)\n",
    "print(y_test.shape)"
   ],
   "metadata": {
    "collapsed": false,
    "ExecuteTime": {
     "start_time": "2024-04-22T00:16:36.681862Z",
     "end_time": "2024-04-22T00:16:36.682812Z"
    }
   }
  },
  {
   "cell_type": "code",
   "execution_count": 4,
   "outputs": [
    {
     "name": "stderr",
     "output_type": "stream",
     "text": [
      "2024-04-23 18:41:51.636051: I tensorflow/core/common_runtime/executor.cc:1197] [/device:CPU:0] (DEBUG INFO) Executor start aborting (this does not indicate an error and you can ignore this message): INVALID_ARGUMENT: You must feed a value for placeholder tensor 'gradients/split_2_grad/concat/split_2/split_dim' with dtype int32\n",
      "\t [[{{node gradients/split_2_grad/concat/split_2/split_dim}}]]\n",
      "2024-04-23 18:41:51.636915: I tensorflow/core/common_runtime/executor.cc:1197] [/device:CPU:0] (DEBUG INFO) Executor start aborting (this does not indicate an error and you can ignore this message): INVALID_ARGUMENT: You must feed a value for placeholder tensor 'gradients/split_grad/concat/split/split_dim' with dtype int32\n",
      "\t [[{{node gradients/split_grad/concat/split/split_dim}}]]\n",
      "2024-04-23 18:41:51.637725: I tensorflow/core/common_runtime/executor.cc:1197] [/device:CPU:0] (DEBUG INFO) Executor start aborting (this does not indicate an error and you can ignore this message): INVALID_ARGUMENT: You must feed a value for placeholder tensor 'gradients/split_1_grad/concat/split_1/split_dim' with dtype int32\n",
      "\t [[{{node gradients/split_1_grad/concat/split_1/split_dim}}]]\n",
      "2024-04-23 18:41:51.767069: I tensorflow/core/common_runtime/executor.cc:1197] [/device:CPU:0] (DEBUG INFO) Executor start aborting (this does not indicate an error and you can ignore this message): INVALID_ARGUMENT: You must feed a value for placeholder tensor 'gradients/split_2_grad/concat/split_2/split_dim' with dtype int32\n",
      "\t [[{{node gradients/split_2_grad/concat/split_2/split_dim}}]]\n",
      "2024-04-23 18:41:51.767757: I tensorflow/core/common_runtime/executor.cc:1197] [/device:CPU:0] (DEBUG INFO) Executor start aborting (this does not indicate an error and you can ignore this message): INVALID_ARGUMENT: You must feed a value for placeholder tensor 'gradients/split_grad/concat/split/split_dim' with dtype int32\n",
      "\t [[{{node gradients/split_grad/concat/split/split_dim}}]]\n",
      "2024-04-23 18:41:51.768384: I tensorflow/core/common_runtime/executor.cc:1197] [/device:CPU:0] (DEBUG INFO) Executor start aborting (this does not indicate an error and you can ignore this message): INVALID_ARGUMENT: You must feed a value for placeholder tensor 'gradients/split_1_grad/concat/split_1/split_dim' with dtype int32\n",
      "\t [[{{node gradients/split_1_grad/concat/split_1/split_dim}}]]\n"
     ]
    },
    {
     "name": "stdout",
     "output_type": "stream",
     "text": [
      "Epoch 1/30\n"
     ]
    },
    {
     "name": "stderr",
     "output_type": "stream",
     "text": [
      "2024-04-23 18:41:52.881299: I tensorflow/core/common_runtime/executor.cc:1197] [/device:CPU:0] (DEBUG INFO) Executor start aborting (this does not indicate an error and you can ignore this message): INVALID_ARGUMENT: You must feed a value for placeholder tensor 'Placeholder/_11' with dtype float and shape [1028,33]\n",
      "\t [[{{node Placeholder/_11}}]]\n",
      "2024-04-23 18:41:52.881612: I tensorflow/core/common_runtime/executor.cc:1197] [/device:CPU:0] (DEBUG INFO) Executor start aborting (this does not indicate an error and you can ignore this message): INVALID_ARGUMENT: You must feed a value for placeholder tensor 'Placeholder/_11' with dtype float and shape [1028,33]\n",
      "\t [[{{node Placeholder/_11}}]]\n",
      "2024-04-23 18:41:53.139158: I tensorflow/core/common_runtime/executor.cc:1197] [/device:CPU:0] (DEBUG INFO) Executor start aborting (this does not indicate an error and you can ignore this message): INVALID_ARGUMENT: You must feed a value for placeholder tensor 'gradients/split_2_grad/concat/split_2/split_dim' with dtype int32\n",
      "\t [[{{node gradients/split_2_grad/concat/split_2/split_dim}}]]\n",
      "2024-04-23 18:41:53.140029: I tensorflow/core/common_runtime/executor.cc:1197] [/device:CPU:0] (DEBUG INFO) Executor start aborting (this does not indicate an error and you can ignore this message): INVALID_ARGUMENT: You must feed a value for placeholder tensor 'gradients/split_grad/concat/split/split_dim' with dtype int32\n",
      "\t [[{{node gradients/split_grad/concat/split/split_dim}}]]\n",
      "2024-04-23 18:41:53.141012: I tensorflow/core/common_runtime/executor.cc:1197] [/device:CPU:0] (DEBUG INFO) Executor start aborting (this does not indicate an error and you can ignore this message): INVALID_ARGUMENT: You must feed a value for placeholder tensor 'gradients/split_1_grad/concat/split_1/split_dim' with dtype int32\n",
      "\t [[{{node gradients/split_1_grad/concat/split_1/split_dim}}]]\n",
      "2024-04-23 18:41:53.267227: I tensorflow/core/common_runtime/executor.cc:1197] [/device:CPU:0] (DEBUG INFO) Executor start aborting (this does not indicate an error and you can ignore this message): INVALID_ARGUMENT: You must feed a value for placeholder tensor 'gradients/split_2_grad/concat/split_2/split_dim' with dtype int32\n",
      "\t [[{{node gradients/split_2_grad/concat/split_2/split_dim}}]]\n",
      "2024-04-23 18:41:53.268064: I tensorflow/core/common_runtime/executor.cc:1197] [/device:CPU:0] (DEBUG INFO) Executor start aborting (this does not indicate an error and you can ignore this message): INVALID_ARGUMENT: You must feed a value for placeholder tensor 'gradients/split_grad/concat/split/split_dim' with dtype int32\n",
      "\t [[{{node gradients/split_grad/concat/split/split_dim}}]]\n",
      "2024-04-23 18:41:53.268840: I tensorflow/core/common_runtime/executor.cc:1197] [/device:CPU:0] (DEBUG INFO) Executor start aborting (this does not indicate an error and you can ignore this message): INVALID_ARGUMENT: You must feed a value for placeholder tensor 'gradients/split_1_grad/concat/split_1/split_dim' with dtype int32\n",
      "\t [[{{node gradients/split_1_grad/concat/split_1/split_dim}}]]\n",
      "2024-04-23 18:41:54.601845: I tensorflow/core/common_runtime/executor.cc:1197] [/device:CPU:0] (DEBUG INFO) Executor start aborting (this does not indicate an error and you can ignore this message): INVALID_ARGUMENT: You must feed a value for placeholder tensor 'gradients/split_2_grad/concat/split_2/split_dim' with dtype int32\n",
      "\t [[{{node gradients/split_2_grad/concat/split_2/split_dim}}]]\n",
      "2024-04-23 18:41:54.603052: I tensorflow/core/common_runtime/executor.cc:1197] [/device:CPU:0] (DEBUG INFO) Executor start aborting (this does not indicate an error and you can ignore this message): INVALID_ARGUMENT: You must feed a value for placeholder tensor 'gradients/split_grad/concat/split/split_dim' with dtype int32\n",
      "\t [[{{node gradients/split_grad/concat/split/split_dim}}]]\n",
      "2024-04-23 18:41:54.603845: I tensorflow/core/common_runtime/executor.cc:1197] [/device:CPU:0] (DEBUG INFO) Executor start aborting (this does not indicate an error and you can ignore this message): INVALID_ARGUMENT: You must feed a value for placeholder tensor 'gradients/split_1_grad/concat/split_1/split_dim' with dtype int32\n",
      "\t [[{{node gradients/split_1_grad/concat/split_1/split_dim}}]]\n",
      "2024-04-23 18:41:54.730803: I tensorflow/core/common_runtime/executor.cc:1197] [/device:CPU:0] (DEBUG INFO) Executor start aborting (this does not indicate an error and you can ignore this message): INVALID_ARGUMENT: You must feed a value for placeholder tensor 'gradients/split_2_grad/concat/split_2/split_dim' with dtype int32\n",
      "\t [[{{node gradients/split_2_grad/concat/split_2/split_dim}}]]\n",
      "2024-04-23 18:41:54.731670: I tensorflow/core/common_runtime/executor.cc:1197] [/device:CPU:0] (DEBUG INFO) Executor start aborting (this does not indicate an error and you can ignore this message): INVALID_ARGUMENT: You must feed a value for placeholder tensor 'gradients/split_grad/concat/split/split_dim' with dtype int32\n",
      "\t [[{{node gradients/split_grad/concat/split/split_dim}}]]\n",
      "2024-04-23 18:41:54.732445: I tensorflow/core/common_runtime/executor.cc:1197] [/device:CPU:0] (DEBUG INFO) Executor start aborting (this does not indicate an error and you can ignore this message): INVALID_ARGUMENT: You must feed a value for placeholder tensor 'gradients/split_1_grad/concat/split_1/split_dim' with dtype int32\n",
      "\t [[{{node gradients/split_1_grad/concat/split_1/split_dim}}]]\n"
     ]
    },
    {
     "name": "stdout",
     "output_type": "stream",
     "text": [
      "33/33 [==============================] - ETA: 0s - loss: 3.4926 - categorical_accuracy: 0.0340"
     ]
    },
    {
     "name": "stderr",
     "output_type": "stream",
     "text": [
      "2024-04-23 18:42:04.519173: I tensorflow/core/common_runtime/executor.cc:1197] [/device:CPU:0] (DEBUG INFO) Executor start aborting (this does not indicate an error and you can ignore this message): INVALID_ARGUMENT: You must feed a value for placeholder tensor 'Placeholder/_10' with dtype float and shape [257,144,1024]\n",
      "\t [[{{node Placeholder/_10}}]]\n",
      "2024-04-23 18:42:04.519381: I tensorflow/core/common_runtime/executor.cc:1197] [/device:CPU:0] (DEBUG INFO) Executor start aborting (this does not indicate an error and you can ignore this message): INVALID_ARGUMENT: You must feed a value for placeholder tensor 'Placeholder/_11' with dtype float and shape [257,33]\n",
      "\t [[{{node Placeholder/_11}}]]\n",
      "2024-04-23 18:42:04.694707: I tensorflow/core/common_runtime/executor.cc:1197] [/device:CPU:0] (DEBUG INFO) Executor start aborting (this does not indicate an error and you can ignore this message): INVALID_ARGUMENT: You must feed a value for placeholder tensor 'gradients/split_2_grad/concat/split_2/split_dim' with dtype int32\n",
      "\t [[{{node gradients/split_2_grad/concat/split_2/split_dim}}]]\n",
      "2024-04-23 18:42:04.695461: I tensorflow/core/common_runtime/executor.cc:1197] [/device:CPU:0] (DEBUG INFO) Executor start aborting (this does not indicate an error and you can ignore this message): INVALID_ARGUMENT: You must feed a value for placeholder tensor 'gradients/split_grad/concat/split/split_dim' with dtype int32\n",
      "\t [[{{node gradients/split_grad/concat/split/split_dim}}]]\n",
      "2024-04-23 18:42:04.696212: I tensorflow/core/common_runtime/executor.cc:1197] [/device:CPU:0] (DEBUG INFO) Executor start aborting (this does not indicate an error and you can ignore this message): INVALID_ARGUMENT: You must feed a value for placeholder tensor 'gradients/split_1_grad/concat/split_1/split_dim' with dtype int32\n",
      "\t [[{{node gradients/split_1_grad/concat/split_1/split_dim}}]]\n",
      "2024-04-23 18:42:04.824745: I tensorflow/core/common_runtime/executor.cc:1197] [/device:CPU:0] (DEBUG INFO) Executor start aborting (this does not indicate an error and you can ignore this message): INVALID_ARGUMENT: You must feed a value for placeholder tensor 'gradients/split_2_grad/concat/split_2/split_dim' with dtype int32\n",
      "\t [[{{node gradients/split_2_grad/concat/split_2/split_dim}}]]\n",
      "2024-04-23 18:42:04.825847: I tensorflow/core/common_runtime/executor.cc:1197] [/device:CPU:0] (DEBUG INFO) Executor start aborting (this does not indicate an error and you can ignore this message): INVALID_ARGUMENT: You must feed a value for placeholder tensor 'gradients/split_grad/concat/split/split_dim' with dtype int32\n",
      "\t [[{{node gradients/split_grad/concat/split/split_dim}}]]\n",
      "2024-04-23 18:42:04.826633: I tensorflow/core/common_runtime/executor.cc:1197] [/device:CPU:0] (DEBUG INFO) Executor start aborting (this does not indicate an error and you can ignore this message): INVALID_ARGUMENT: You must feed a value for placeholder tensor 'gradients/split_1_grad/concat/split_1/split_dim' with dtype int32\n",
      "\t [[{{node gradients/split_1_grad/concat/split_1/split_dim}}]]\n"
     ]
    },
    {
     "name": "stdout",
     "output_type": "stream",
     "text": [
      "33/33 [==============================] - 13s 294ms/step - loss: 3.4926 - categorical_accuracy: 0.0340 - val_loss: 3.4712 - val_categorical_accuracy: 0.0428\n",
      "Epoch 2/30\n",
      "33/33 [==============================] - 9s 270ms/step - loss: 3.4313 - categorical_accuracy: 0.0564 - val_loss: 3.4254 - val_categorical_accuracy: 0.0817\n",
      "Epoch 3/30\n",
      "33/33 [==============================] - 9s 276ms/step - loss: 3.2913 - categorical_accuracy: 0.1216 - val_loss: 3.3227 - val_categorical_accuracy: 0.1167\n",
      "Epoch 4/30\n",
      "33/33 [==============================] - 9s 269ms/step - loss: 2.8237 - categorical_accuracy: 0.2510 - val_loss: 2.9915 - val_categorical_accuracy: 0.1790\n",
      "Epoch 5/30\n",
      "33/33 [==============================] - 9s 276ms/step - loss: 2.1090 - categorical_accuracy: 0.4533 - val_loss: 2.9442 - val_categorical_accuracy: 0.2451\n",
      "Epoch 6/30\n",
      "33/33 [==============================] - 9s 280ms/step - loss: 1.4760 - categorical_accuracy: 0.6012 - val_loss: 2.5600 - val_categorical_accuracy: 0.2879\n",
      "Epoch 7/30\n",
      "33/33 [==============================] - 9s 288ms/step - loss: 0.8922 - categorical_accuracy: 0.8093 - val_loss: 2.6947 - val_categorical_accuracy: 0.3152\n",
      "Epoch 8/30\n",
      "33/33 [==============================] - 10s 290ms/step - loss: 0.6044 - categorical_accuracy: 0.8784 - val_loss: 2.5972 - val_categorical_accuracy: 0.3658\n",
      "Epoch 9/30\n",
      "33/33 [==============================] - 10s 289ms/step - loss: 0.2885 - categorical_accuracy: 0.9601 - val_loss: 2.5996 - val_categorical_accuracy: 0.3696\n",
      "Epoch 10/30\n",
      "33/33 [==============================] - 10s 292ms/step - loss: 0.2311 - categorical_accuracy: 0.9591 - val_loss: 2.5770 - val_categorical_accuracy: 0.3930\n",
      "Epoch 11/30\n",
      "33/33 [==============================] - 10s 296ms/step - loss: 0.1426 - categorical_accuracy: 0.9874 - val_loss: 2.6031 - val_categorical_accuracy: 0.4086\n",
      "Epoch 12/30\n",
      "33/33 [==============================] - 10s 296ms/step - loss: 0.0807 - categorical_accuracy: 0.9971 - val_loss: 2.4504 - val_categorical_accuracy: 0.4086\n",
      "Epoch 13/30\n",
      "33/33 [==============================] - 10s 302ms/step - loss: 0.0508 - categorical_accuracy: 0.9971 - val_loss: 2.4196 - val_categorical_accuracy: 0.4397\n",
      "Epoch 14/30\n",
      "33/33 [==============================] - 10s 297ms/step - loss: 0.0357 - categorical_accuracy: 0.9971 - val_loss: 2.4839 - val_categorical_accuracy: 0.4397\n",
      "Epoch 15/30\n",
      "33/33 [==============================] - 10s 296ms/step - loss: 0.0321 - categorical_accuracy: 1.0000 - val_loss: 2.3864 - val_categorical_accuracy: 0.4436\n",
      "Epoch 16/30\n",
      "33/33 [==============================] - 10s 294ms/step - loss: 0.0262 - categorical_accuracy: 0.9981 - val_loss: 2.4552 - val_categorical_accuracy: 0.4514\n",
      "Epoch 17/30\n",
      "33/33 [==============================] - 10s 308ms/step - loss: 0.0220 - categorical_accuracy: 1.0000 - val_loss: 2.4550 - val_categorical_accuracy: 0.4514\n",
      "Epoch 18/30\n",
      "33/33 [==============================] - 10s 302ms/step - loss: 0.0184 - categorical_accuracy: 1.0000 - val_loss: 2.4718 - val_categorical_accuracy: 0.4397\n",
      "Epoch 19/30\n",
      "33/33 [==============================] - 10s 293ms/step - loss: 0.0155 - categorical_accuracy: 1.0000 - val_loss: 2.4992 - val_categorical_accuracy: 0.4630\n",
      "Epoch 20/30\n",
      "33/33 [==============================] - 10s 292ms/step - loss: 0.0143 - categorical_accuracy: 1.0000 - val_loss: 2.5061 - val_categorical_accuracy: 0.4436\n",
      "Epoch 21/30\n",
      "33/33 [==============================] - 10s 295ms/step - loss: 0.0130 - categorical_accuracy: 1.0000 - val_loss: 2.4915 - val_categorical_accuracy: 0.4553\n",
      "Epoch 22/30\n",
      "33/33 [==============================] - 10s 293ms/step - loss: 0.0112 - categorical_accuracy: 1.0000 - val_loss: 2.5508 - val_categorical_accuracy: 0.4436\n",
      "Epoch 23/30\n",
      "33/33 [==============================] - 10s 294ms/step - loss: 0.0112 - categorical_accuracy: 1.0000 - val_loss: 2.5135 - val_categorical_accuracy: 0.4669\n",
      "Epoch 24/30\n",
      "33/33 [==============================] - 10s 293ms/step - loss: 0.0095 - categorical_accuracy: 1.0000 - val_loss: 2.5321 - val_categorical_accuracy: 0.4397\n",
      "Epoch 25/30\n",
      "33/33 [==============================] - 10s 292ms/step - loss: 0.0083 - categorical_accuracy: 1.0000 - val_loss: 2.5251 - val_categorical_accuracy: 0.4475\n",
      "Epoch 26/30\n",
      "33/33 [==============================] - 10s 291ms/step - loss: 0.0081 - categorical_accuracy: 1.0000 - val_loss: 2.5197 - val_categorical_accuracy: 0.4475\n",
      "Epoch 27/30\n",
      "33/33 [==============================] - 9s 289ms/step - loss: 0.0073 - categorical_accuracy: 1.0000 - val_loss: 2.5204 - val_categorical_accuracy: 0.4514\n",
      "Epoch 28/30\n",
      "33/33 [==============================] - 10s 291ms/step - loss: 0.0072 - categorical_accuracy: 1.0000 - val_loss: 2.5130 - val_categorical_accuracy: 0.4591\n",
      "Epoch 29/30\n",
      "33/33 [==============================] - 10s 290ms/step - loss: 0.0072 - categorical_accuracy: 1.0000 - val_loss: 2.5534 - val_categorical_accuracy: 0.4436\n",
      "Epoch 30/30\n",
      "33/33 [==============================] - 10s 301ms/step - loss: 0.0061 - categorical_accuracy: 1.0000 - val_loss: 2.5764 - val_categorical_accuracy: 0.4436\n"
     ]
    }
   ],
   "source": [
    "model = Sequential()\n",
    "model.add(Conv1D(200, kernel_size=8, activation='relu', input_shape=(max_sequence_length_per_video, features.shape[1])))\n",
    "model.add(Conv1D(200, kernel_size=8, activation='relu'))\n",
    "model.add(MaxPooling1D(5))\n",
    "\n",
    "model.add(LSTM(200, return_sequences=True))\n",
    "model.add(LSTM(200, return_sequences=False))\n",
    "model.add(Dropout(0.5))\n",
    "model.add(Dense(y_train.shape[1], activation='softmax')) # albo softmax albo sigmoid\n",
    "\n",
    "optimizer = optimizers.Adam(learning_rate=0.0002) # 8e-05 albo 0.0002\n",
    "model.compile(optimizer=optimizer, loss='categorical_crossentropy', metrics=['categorical_accuracy'])\n",
    "history = model.fit(X_train, y_train, validation_data=(X_test, y_test), epochs=30)"
   ],
   "metadata": {
    "collapsed": false,
    "ExecuteTime": {
     "start_time": "2024-04-23T18:41:51.408833Z",
     "end_time": "2024-04-23T18:46:43.664671Z"
    }
   }
  },
  {
   "cell_type": "code",
   "execution_count": 1,
   "outputs": [
    {
     "ename": "NameError",
     "evalue": "name 'history' is not defined",
     "output_type": "error",
     "traceback": [
      "\u001B[0;31m---------------------------------------------------------------------------\u001B[0m",
      "\u001B[0;31mNameError\u001B[0m                                 Traceback (most recent call last)",
      "Cell \u001B[0;32mIn[1], line 4\u001B[0m\n\u001B[1;32m      1\u001B[0m \u001B[38;5;28;01mimport\u001B[39;00m \u001B[38;5;21;01mmatplotlib\u001B[39;00m\u001B[38;5;21;01m.\u001B[39;00m\u001B[38;5;21;01mpyplot\u001B[39;00m \u001B[38;5;28;01mas\u001B[39;00m \u001B[38;5;21;01mplt\u001B[39;00m\n\u001B[1;32m      3\u001B[0m plt\u001B[38;5;241m.\u001B[39mfigure(figsize\u001B[38;5;241m=\u001B[39m(\u001B[38;5;241m10\u001B[39m, \u001B[38;5;241m5\u001B[39m))\n\u001B[0;32m----> 4\u001B[0m plt\u001B[38;5;241m.\u001B[39mplot(history\u001B[38;5;241m.\u001B[39mhistory[\u001B[38;5;124m'\u001B[39m\u001B[38;5;124mcategorical_accuracy\u001B[39m\u001B[38;5;124m'\u001B[39m], label\u001B[38;5;241m=\u001B[39m\u001B[38;5;124m'\u001B[39m\u001B[38;5;124mDokładność treningowa\u001B[39m\u001B[38;5;124m'\u001B[39m)\n\u001B[1;32m      5\u001B[0m plt\u001B[38;5;241m.\u001B[39mplot(history\u001B[38;5;241m.\u001B[39mhistory[\u001B[38;5;124m'\u001B[39m\u001B[38;5;124mval_categorical_accuracy\u001B[39m\u001B[38;5;124m'\u001B[39m], label\u001B[38;5;241m=\u001B[39m\u001B[38;5;124m'\u001B[39m\u001B[38;5;124mDokładność walidacyjna\u001B[39m\u001B[38;5;124m'\u001B[39m)\n\u001B[1;32m      6\u001B[0m plt\u001B[38;5;241m.\u001B[39mtitle(\u001B[38;5;124m'\u001B[39m\u001B[38;5;124mDokładność modelu na zbiorach treningowym i walidacyjnym\u001B[39m\u001B[38;5;124m'\u001B[39m)\n",
      "\u001B[0;31mNameError\u001B[0m: name 'history' is not defined"
     ]
    },
    {
     "data": {
      "text/plain": "<Figure size 1000x500 with 0 Axes>"
     },
     "metadata": {},
     "output_type": "display_data"
    }
   ],
   "source": [
    "import matplotlib.pyplot as plt\n",
    "\n",
    "plt.figure(figsize=(10, 5))\n",
    "plt.plot(history.history['categorical_accuracy'], label='Dokładność treningowa')\n",
    "plt.plot(history.history['val_categorical_accuracy'], label='Dokładność walidacyjna')\n",
    "plt.title('Dokładność modelu na zbiorach treningowym i walidacyjnym')\n",
    "plt.ylabel('Dokładność')\n",
    "plt.xlabel('Epoka')\n",
    "plt.legend(loc='upper left')\n",
    "plt.show()\n",
    "\n",
    "plt.figure(figsize=(10, 5))\n",
    "plt.plot(history.history['loss'], label='Strata treningowa')\n",
    "plt.plot(history.history['val_loss'], label='Strata walidacyjna')\n",
    "plt.title('Strata modelu na zbiorach treningowym i walidacyjnym')\n",
    "plt.ylabel('Strata')\n",
    "plt.xlabel('Epoka')\n",
    "plt.legend(loc='upper right')\n",
    "plt.show()\n"
   ],
   "metadata": {
    "collapsed": false,
    "ExecuteTime": {
     "start_time": "2024-04-21T19:13:26.104454Z",
     "end_time": "2024-04-21T19:13:26.354617Z"
    }
   }
  },
  {
   "cell_type": "code",
   "execution_count": 171,
   "outputs": [
    {
     "name": "stderr",
     "output_type": "stream",
     "text": [
      "2024-04-13 23:53:52.096729: I tensorflow/core/common_runtime/executor.cc:1197] [/device:CPU:0] (DEBUG INFO) Executor start aborting (this does not indicate an error and you can ignore this message): INVALID_ARGUMENT: You must feed a value for placeholder tensor 'Placeholder/_10' with dtype float and shape [257,144,1024]\n",
      "\t [[{{node Placeholder/_10}}]]\n",
      "2024-04-13 23:53:52.097002: I tensorflow/core/common_runtime/executor.cc:1197] [/device:CPU:0] (DEBUG INFO) Executor start aborting (this does not indicate an error and you can ignore this message): INVALID_ARGUMENT: You must feed a value for placeholder tensor 'Placeholder/_10' with dtype float and shape [257,144,1024]\n",
      "\t [[{{node Placeholder/_10}}]]\n",
      "2024-04-13 23:53:52.264717: I tensorflow/core/common_runtime/executor.cc:1197] [/device:CPU:0] (DEBUG INFO) Executor start aborting (this does not indicate an error and you can ignore this message): INVALID_ARGUMENT: You must feed a value for placeholder tensor 'gradients/split_2_grad/concat/split_2/split_dim' with dtype int32\n",
      "\t [[{{node gradients/split_2_grad/concat/split_2/split_dim}}]]\n",
      "2024-04-13 23:53:52.265624: I tensorflow/core/common_runtime/executor.cc:1197] [/device:CPU:0] (DEBUG INFO) Executor start aborting (this does not indicate an error and you can ignore this message): INVALID_ARGUMENT: You must feed a value for placeholder tensor 'gradients/split_grad/concat/split/split_dim' with dtype int32\n",
      "\t [[{{node gradients/split_grad/concat/split/split_dim}}]]\n",
      "2024-04-13 23:53:52.266451: I tensorflow/core/common_runtime/executor.cc:1197] [/device:CPU:0] (DEBUG INFO) Executor start aborting (this does not indicate an error and you can ignore this message): INVALID_ARGUMENT: You must feed a value for placeholder tensor 'gradients/split_1_grad/concat/split_1/split_dim' with dtype int32\n",
      "\t [[{{node gradients/split_1_grad/concat/split_1/split_dim}}]]\n",
      "2024-04-13 23:53:52.393073: I tensorflow/core/common_runtime/executor.cc:1197] [/device:CPU:0] (DEBUG INFO) Executor start aborting (this does not indicate an error and you can ignore this message): INVALID_ARGUMENT: You must feed a value for placeholder tensor 'gradients/split_2_grad/concat/split_2/split_dim' with dtype int32\n",
      "\t [[{{node gradients/split_2_grad/concat/split_2/split_dim}}]]\n",
      "2024-04-13 23:53:52.393840: I tensorflow/core/common_runtime/executor.cc:1197] [/device:CPU:0] (DEBUG INFO) Executor start aborting (this does not indicate an error and you can ignore this message): INVALID_ARGUMENT: You must feed a value for placeholder tensor 'gradients/split_grad/concat/split/split_dim' with dtype int32\n",
      "\t [[{{node gradients/split_grad/concat/split/split_dim}}]]\n",
      "2024-04-13 23:53:52.394838: I tensorflow/core/common_runtime/executor.cc:1197] [/device:CPU:0] (DEBUG INFO) Executor start aborting (this does not indicate an error and you can ignore this message): INVALID_ARGUMENT: You must feed a value for placeholder tensor 'gradients/split_1_grad/concat/split_1/split_dim' with dtype int32\n",
      "\t [[{{node gradients/split_1_grad/concat/split_1/split_dim}}]]\n"
     ]
    },
    {
     "name": "stdout",
     "output_type": "stream",
     "text": [
      "9/9 [==============================] - 1s 60ms/step\n"
     ]
    },
    {
     "data": {
      "text/plain": "<Figure size 1000x700 with 2 Axes>",
      "image/png": "[encoded data removed]"
     },
     "metadata": {},
     "output_type": "display_data"
    }
   ],
   "source": [
    "from sklearn.metrics import confusion_matrix\n",
    "import seaborn as sns\n",
    "\n",
    "y_pred = model.predict(X_test)\n",
    "\n",
    "y_test_class = np.argmax(y_test, axis=1)\n",
    "y_pred_class = np.argmax(y_pred, axis=1)\n",
    "\n",
    "conf_matrix = confusion_matrix(y_test_class, y_pred_class)\n",
    "\n",
    "plt.figure(figsize=(10, 7))\n",
    "sns.heatmap(conf_matrix)\n",
    "plt.xlabel('Predicted labels')\n",
    "plt.ylabel('True labels')\n",
    "plt.title('Confusion Matrix')\n",
    "plt.show()"
   ],
   "metadata": {
    "collapsed": false,
    "ExecuteTime": {
     "start_time": "2024-04-13T23:53:51.749740Z",
     "end_time": "2024-04-13T23:53:53.509256Z"
    }
   }
  },
  {
   "cell_type": "code",
   "execution_count": 115,
   "outputs": [
    {
     "name": "stdout",
     "output_type": "stream",
     "text": [
      "              precision    recall  f1-score   support\n",
      "\n",
      "          CH       0.50      0.50      0.50         2\n",
      "          CZ       1.00      0.57      0.73         7\n",
      "           Ł       1.00      0.83      0.91         6\n",
      "           R       0.67      0.80      0.73         5\n",
      "           U       1.00      0.62      0.76        13\n",
      "           I       0.70      0.88      0.78         8\n",
      "           N       0.78      0.78      0.78         9\n",
      "           G       0.75      0.75      0.75         8\n",
      "           Z       0.64      0.82      0.72        11\n",
      "           T       0.86      0.75      0.80         8\n",
      "          RZ       0.80      0.40      0.53        10\n",
      "           S       0.33      0.50      0.40         2\n",
      "           A       0.55      0.86      0.67         7\n",
      "           Ó       0.25      0.25      0.25         4\n",
      "           F       0.43      0.50      0.46         6\n",
      "           O       0.38      0.62      0.48         8\n",
      "           H       0.54      0.64      0.58        11\n",
      "          SZ       0.40      0.67      0.50         6\n",
      "           Ń       0.83      0.71      0.77         7\n",
      "           Ą       0.75      0.43      0.55         7\n",
      "           M       0.67      0.50      0.57         8\n",
      "           Ć       0.83      0.83      0.83         6\n",
      "           J       0.71      0.83      0.77         6\n",
      "           C       0.75      1.00      0.86         9\n",
      "           Ę       1.00      0.64      0.78        14\n",
      "           D       0.60      0.75      0.67         8\n",
      "           E       0.82      0.90      0.86        10\n",
      "           B       0.69      0.73      0.71        15\n",
      "           K       0.86      1.00      0.92         6\n",
      "           L       0.80      0.80      0.80         5\n",
      "           Y       1.00      0.88      0.93         8\n",
      "           P       0.86      0.86      0.86         7\n",
      "           W       0.80      0.40      0.53        10\n",
      "\n",
      "    accuracy                           0.70       257\n",
      "   macro avg       0.71      0.70      0.69       257\n",
      "weighted avg       0.74      0.70      0.71       257\n",
      "\n"
     ]
    }
   ],
   "source": [
    "from sklearn.metrics import classification_report\n",
    "\n",
    "class_labels = df['label'].unique()\n",
    "\n",
    "print(classification_report(y_test_class, y_pred_class, target_names=class_labels))"
   ],
   "metadata": {
    "collapsed": false,
    "ExecuteTime": {
     "start_time": "2024-03-03T22:51:18.860505Z",
     "end_time": "2024-03-03T22:51:18.868931Z"
    }
   }
  },
  {
   "cell_type": "code",
   "execution_count": null,
   "outputs": [],
   "source": [],
   "metadata": {
    "collapsed": false
   }
  }
 ],
 "metadata": {
  "kernelspec": {
   "name": "myenv",
   "language": "python",
   "display_name": "myenv"
  },
  "language_info": {
   "codemirror_mode": {
    "name": "ipython",
    "version": 2
   },
   "file_extension": ".py",
   "mimetype": "text/x-python",
   "name": "python",
   "nbconvert_exporter": "python",
   "pygments_lexer": "ipython2",
   "version": "2.7.6"
  }
 },
 "nbformat": 4,
 "nbformat_minor": 0
}
